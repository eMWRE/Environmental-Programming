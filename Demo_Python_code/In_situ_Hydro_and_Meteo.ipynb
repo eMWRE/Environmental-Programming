{
 "cells": [
  {
   "cell_type": "markdown",
   "metadata": {},
   "source": [
    "# This is a demo code that does some fun stuff"
   ]
  },
  {
   "cell_type": "markdown",
   "metadata": {},
   "source": [
    "This code is based on the work of Dr. Michailovski and it has been modified by Dr. Salvadore from IHE Delft"
   ]
  },
  {
   "cell_type": "markdown",
   "metadata": {},
   "source": [
    "The purpose of this code is to anlayse discharge, and precipitation data from the K2 basin in Karnataka India. The data is provided by ACIWRM."
   ]
  },
  {
   "cell_type": "markdown",
   "metadata": {},
   "source": [
    " \n",
    " "
   ]
  },
  {
   "cell_type": "markdown",
   "metadata": {},
   "source": [
    " "
   ]
  },
  {
   "cell_type": "markdown",
   "metadata": {},
   "source": [
    "In Python you first import useful packages that provide functionalities for your code:"
   ]
  },
  {
   "cell_type": "code",
   "execution_count": null,
   "metadata": {},
   "outputs": [],
   "source": [
    "import os\n",
    "import datetime\n",
    "import numpy as np\n",
    "import pandas as pd\n",
    "import matplotlib.pyplot as plt\n",
    "import shapefile\n",
    "import shapely\n",
    "import xarray as xr"
   ]
  },
  {
   "cell_type": "markdown",
   "metadata": {},
   "source": [
    "With the next lines we load the excel file with the discharge data in two variables dh1 and dh2: "
   ]
  },
  {
   "cell_type": "code",
   "execution_count": null,
   "metadata": {},
   "outputs": [],
   "source": [
    "hydrofile = r\"Data/Hydrological data.xlsx\"\n",
    "df = pd.read_excel(hydrofile, engine='openpyxl')\n",
    "dh1t = df.loc[df.Name=='Hydr 1']\n",
    "dh2t = df.loc[df.Name=='Hydr 2']\n",
    "dh1 = dh1t.set_index('Date (mm-yy)')\n",
    "dh2 = dh2t.set_index('Date (mm-yy)')"
   ]
  },
  {
   "cell_type": "markdown",
   "metadata": {},
   "source": [
    "To visualize the data type in the next cell dh1.head() and dh1.tail() inside the print brackets and then run the cell:"
   ]
  },
  {
   "cell_type": "code",
   "execution_count": null,
   "metadata": {},
   "outputs": [],
   "source": [
    "print()\n",
    "print()"
   ]
  },
  {
   "cell_type": "markdown",
   "metadata": {},
   "source": [
    "Then the first thing you would do in excel, would be to plot the data. We can do this with the code below. Before running the cell fill in the right value for the discharge units for the y axis."
   ]
  },
  {
   "cell_type": "code",
   "execution_count": null,
   "metadata": {},
   "outputs": [],
   "source": [
    "plt.figure(figsize=(12,4))\n",
    "plt.plot(dh1.index, dh1['Discharge, Mm3/month'])\n",
    "plt.title('Discharge at Sarwad')\n",
    "plt.ylabel('')\n",
    "plt.show()\n",
    "\n",
    "plt.figure(figsize=(12,4))\n",
    "plt.plot(dh2.index, dh2['Discharge, Mm3/month'])\n",
    "plt.title('Discharge at Thintini')\n",
    "plt.ylabel('')\n",
    "plt.show()"
   ]
  },
  {
   "cell_type": "markdown",
   "metadata": {},
   "source": [
    " "
   ]
  },
  {
   "cell_type": "markdown",
   "metadata": {},
   "source": [
    "Where are the flow discharge stations located? We can retrieve their coordinates from a shapefile:"
   ]
  },
  {
   "cell_type": "code",
   "execution_count": null,
   "metadata": {},
   "outputs": [],
   "source": [
    "locfile = r\"Data/hydrological_gauges_WGS84.shp\"\n",
    "shape = shapefile.Reader(locfile)\n",
    "Hcoords = {}\n",
    "for feature in shape.shapeRecords():\n",
    "    first = feature.shape.__geo_interface__  \n",
    "    Hcoords[feature.record[2]] = first['coordinates']\n",
    "del Hcoords['']\n",
    "Hcoords"
   ]
  },
  {
   "cell_type": "markdown",
   "metadata": {},
   "source": [
    " "
   ]
  },
  {
   "cell_type": "markdown",
   "metadata": {},
   "source": [
    "We are now going to look at remote sensing evapotranspiration in netcdf format for the study area:"
   ]
  },
  {
   "cell_type": "code",
   "execution_count": null,
   "metadata": {},
   "outputs": [],
   "source": [
    "et = xr.open_dataset(r\"Data/evapotranspiration_yearly.nc\")\n",
    "etvar = et.ETa\n",
    "mean_et = etvar.mean(dim=['latitude','longitude'])\n",
    "plt.bar(list(range(2011,2019)),mean_et, color='orange')\n",
    "plt.ylabel('ET [mm/year]')\n",
    "plt.show()"
   ]
  },
  {
   "cell_type": "markdown",
   "metadata": {},
   "source": [
    " "
   ]
  },
  {
   "cell_type": "markdown",
   "metadata": {},
   "source": [
    "In the next cell make a new bar plot of ET using a different color:"
   ]
  },
  {
   "cell_type": "code",
   "execution_count": null,
   "metadata": {},
   "outputs": [],
   "source": []
  },
  {
   "cell_type": "markdown",
   "metadata": {},
   "source": [
    " "
   ]
  },
  {
   "cell_type": "markdown",
   "metadata": {},
   "source": [
    "### Meteo Data"
   ]
  },
  {
   "cell_type": "markdown",
   "metadata": {},
   "source": [
    "In the next section we analyse precipitation data, both in-situ and from satellite. We have data for six metereological stations. Daily data is provided in excel format from 2000 to 2018."
   ]
  },
  {
   "cell_type": "code",
   "execution_count": null,
   "metadata": {},
   "outputs": [],
   "source": [
    "meteofile = r\"Data/Meteorological data.xlsx\"\n",
    "df = pd.read_excel(meteofile, engine='openpyxl')\n",
    "dm1t = df.loc[df.Name=='Meteo 1']\n",
    "dm2t = df.loc[df.Name=='Meteo 2']\n",
    "dm3t = df.loc[df.Name=='Meteo 3']\n",
    "dm4t = df.loc[df.Name=='Meteo 4']\n",
    "dm5t = df.loc[df.Name=='Meteo 5']\n",
    "dm6t = df.loc[df.Name=='Meteo 6']\n",
    "dd1 = dm1t.set_index('Date')\n",
    "dd2 = dm2t.set_index('Date')\n",
    "dd3 = dm3t.set_index('Date')\n",
    "dd4 = dm4t.set_index('Date')\n",
    "dd5 = dm5t.set_index('Date')\n",
    "dd6 = dm6t.set_index('Date')"
   ]
  },
  {
   "cell_type": "markdown",
   "metadata": {},
   "source": [
    "We are interested in monthly data (because our remote sensing data is available monthly).\n"
   ]
  },
  {
   "cell_type": "markdown",
   "metadata": {},
   "source": [
    "In the first six lines we are resampling our data from daily to monthly, how should we do it? Choose the correct option:\n",
    "\n",
    "1) .mean() for the average\n",
    "\n",
    "2) .max() for the max value\n",
    "\n",
    "3) .sum() to sum the values\n",
    "\n",
    "Type one of the three options after the dot."
   ]
  },
  {
   "cell_type": "code",
   "execution_count": null,
   "metadata": {},
   "outputs": [],
   "source": [
    "dm1 = dd1.resample('M').\n",
    "dm2 = dd2.resample('M').\n",
    "dm3 = dd3.resample('M').\n",
    "dm4 = dd4.resample('M').\n",
    "dm5 = dd5.resample('M').\n",
    "dm6 = dd6.resample('M').\n",
    "\n",
    "dm1.index = [datetime.datetime(i.year, i.month, 1) for i in dm1.index]\n",
    "dm2.index = [datetime.datetime(i.year, i.month, 1) for i in dm2.index]\n",
    "dm3.index = [datetime.datetime(i.year, i.month, 1) for i in dm3.index]\n",
    "dm4.index = [datetime.datetime(i.year, i.month, 1) for i in dm4.index]\n",
    "dm5.index = [datetime.datetime(i.year, i.month, 1) for i in dm5.index]\n",
    "dm6.index = [datetime.datetime(i.year, i.month, 1) for i in dm6.index]\n",
    "\n",
    "dmdic = {'Meteo 1': dm1,\n",
    "         'Meteo 2': dm2,\n",
    "         'Meteo 3': dm3,\n",
    "         'Meteo 4': dm4,\n",
    "         'Meteo 5': dm5,\n",
    "         'Meteo 6': dm6,\n",
    "        }"
   ]
  },
  {
   "cell_type": "markdown",
   "metadata": {},
   "source": [
    "And now some plots..."
   ]
  },
  {
   "cell_type": "code",
   "execution_count": null,
   "metadata": {},
   "outputs": [],
   "source": [
    "plt.figure(figsize=(12,6))\n",
    "for (i,dm) in enumerate([dm1,dm2,dm3,dm4,dm5,dm6]):\n",
    "    plt.subplot(2,3,i+1)\n",
    "    plt.plot(dm.index, dm['Precipitation, mm'])\n",
    "plt.tight_layout()"
   ]
  },
  {
   "cell_type": "markdown",
   "metadata": {},
   "source": [
    "We need to know the locations of the meteorological stations for comparing the in-situ data to the satellite data:"
   ]
  },
  {
   "cell_type": "code",
   "execution_count": null,
   "metadata": {},
   "outputs": [],
   "source": [
    "locfile = r\"Data/meteorological_stats.shp\"\n",
    "shape = shapefile.Reader(locfile)\n",
    "Mcoords = {}\n",
    "for feature in shape.shapeRecords():\n",
    "    first = feature.shape.__geo_interface__  \n",
    "    Mcoords[feature.record[1]] = first['coordinates']\n",
    "del Mcoords['']"
   ]
  },
  {
   "cell_type": "markdown",
   "metadata": {},
   "source": [
    "Type print(Mcoords) to visualize the coordinates of the six stations and run the cell. Do not worry if they are not in order."
   ]
  },
  {
   "cell_type": "code",
   "execution_count": null,
   "metadata": {},
   "outputs": [],
   "source": []
  },
  {
   "cell_type": "markdown",
   "metadata": {},
   "source": [
    "Now we are going to load the netcdf file containing the satellite data for precipitation (CHIRPS data) and we are going to plot the first month and overlay the location of one of the stations:"
   ]
  },
  {
   "cell_type": "code",
   "execution_count": null,
   "metadata": {},
   "outputs": [],
   "source": [
    "p_path = r\"Data/p_monthly.nc\"\n",
    "p = xr.open_dataset(p_path, chunks=500)\n",
    "extent = extent=(p.longitude[0],p.longitude[-1],p.latitude[-1],p.latitude[0])\n",
    "plt.imshow(p.P[0], extent=extent)\n",
    "plt.scatter(74.9492, 16.5134, color='r')\n",
    "plt.show()"
   ]
  },
  {
   "cell_type": "markdown",
   "metadata": {},
   "source": [
    "Create a new figure that shows the first monthly rainfall together with two station locations"
   ]
  },
  {
   "cell_type": "code",
   "execution_count": null,
   "metadata": {},
   "outputs": [],
   "source": []
  },
  {
   "cell_type": "markdown",
   "metadata": {},
   "source": [
    "With the code below we create graphs (line plots) comparing in-situ and remote sensing preciptiation at the station locations for all six stations."
   ]
  },
  {
   "cell_type": "code",
   "execution_count": null,
   "metadata": {
    "scrolled": false
   },
   "outputs": [],
   "source": [
    "for i, stat in enumerate(Mcoords):\n",
    "    plt.figure(figsize=(8,4))\n",
    "    lon = Mcoords[stat][0]\n",
    "    lat = Mcoords[stat][1]\n",
    "    df1 = dmdic[stat][60:]\n",
    "    psel = p.sel(longitude=lon, latitude=lat, method ='nearest')\n",
    "    plt.plot(df1.index, df1['Precipitation, mm'], label = 'in situ')\n",
    "    plt.plot(psel.time, psel.P.values, label = 'CHIRPS')\n",
    "    plt.title(stat)\n",
    "    plt.ylabel('mm/month')\n",
    "    plt.legend()\n",
    "    plt.show()\n",
    "    plt.close()"
   ]
  },
  {
   "cell_type": "markdown",
   "metadata": {},
   "source": [
    "And now scatterplots:"
   ]
  },
  {
   "cell_type": "code",
   "execution_count": null,
   "metadata": {},
   "outputs": [],
   "source": [
    "for i, stat in enumerate(Mcoords):\n",
    "    plt.figure(figsize=(4,4))\n",
    "    lon = Mcoords[stat][0]\n",
    "    lat = Mcoords[stat][1]\n",
    "    df1 = dmdic[stat][125:]\n",
    "    psel = p.sel(longitude=lon, latitude=lat, method ='nearest')\n",
    "    plt.plot([0,175],[0,175],'--', color='grey')\n",
    "    plt.scatter(psel.P.values[:-1], df1['Precipitation, mm'], s=2)\n",
    "    plt.title(stat)\n",
    "    plt.xlabel('CHIRPS [mm/month]')\n",
    "    plt.ylabel('in situ [mm/month]')\n",
    "    plt.tight_layout()\n",
    "    plt.grid()\n",
    "    plt.xlim([0,175])\n",
    "    plt.ylim([0,175])\n",
    "    plt.show()\n",
    "    plt.close()"
   ]
  },
  {
   "cell_type": "markdown",
   "metadata": {
    "scrolled": true
   },
   "source": [
    "Finally some statistics. We are going to plot the mean square error and the r2 of each station in the scatter plot. It might take a little bit to run (Python is doing a lot of calculations for you!)."
   ]
  },
  {
   "cell_type": "code",
   "execution_count": null,
   "metadata": {},
   "outputs": [],
   "source": [
    "import sklearn\n",
    "from sklearn.metrics import r2_score\n",
    "from sklearn.metrics import mean_squared_error\n",
    "\n",
    "plt.figure(figsize=(12,6))\n",
    "for i, stat in enumerate(sorted(Mcoords)):\n",
    "    plt.subplot(2,3,i+1)\n",
    "    lon = Mcoords[stat][0]\n",
    "    lat = Mcoords[stat][1]\n",
    "    df1 = dmdic[stat][125:]\n",
    "    psel = p.sel(longitude=lon, latitude=lat, method ='nearest')\n",
    "    plt.plot([0,175],[0,175],'--', color='grey')\n",
    "    plt.scatter(psel.P.values[:-1], df1['Precipitation, mm'], s=2)\n",
    "    rmse = mean_squared_error(df1['Precipitation, mm'], psel.P.values[:-1], squared=False)\n",
    "    r2 = r2_score(df1['Precipitation, mm'], psel.P.values[:-1])\n",
    "    plt.title('{} \\n rmse={:.2f} mm/month \\n r2={:.2f}'.format(stat, rmse, r2))#stat+'\\n rmse = '+str(rmse)+' r2= '+str(r2))\n",
    "    plt.xlabel('CHIRPS [mm/month]')\n",
    "    plt.ylabel('in situ [mm/month]')\n",
    "    plt.tight_layout()\n",
    "    plt.grid()\n",
    "    plt.xlim([0,175])\n",
    "    plt.ylim([0,175])"
   ]
  }
 ],
 "metadata": {
  "kernelspec": {
   "display_name": "Python 3",
   "language": "python",
   "name": "python3"
  },
  "language_info": {
   "codemirror_mode": {
    "name": "ipython",
    "version": 3
   },
   "file_extension": ".py",
   "mimetype": "text/x-python",
   "name": "python",
   "nbconvert_exporter": "python",
   "pygments_lexer": "ipython3",
   "version": "3.7.7"
  }
 },
 "nbformat": 4,
 "nbformat_minor": 5
}
